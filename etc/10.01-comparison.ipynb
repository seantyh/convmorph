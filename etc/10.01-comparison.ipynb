{
 "cells": [
  {
   "cell_type": "code",
   "execution_count": 1,
   "id": "37468b11-bc73-4165-8a65-7d41fd847151",
   "metadata": {},
   "outputs": [],
   "source": [
    "%load_ext autoreload \n",
    "%autoreload 2"
   ]
  },
  {
   "cell_type": "code",
   "execution_count": 2,
   "id": "baf0e6fb-e51c-496e-b7ee-c4cac46340fd",
   "metadata": {},
   "outputs": [],
   "source": [
    "import sys\n",
    "if \"../src\" not in sys.path:\n",
    "    sys.path.append(\"../src\")"
   ]
  },
  {
   "cell_type": "code",
   "execution_count": 3,
   "id": "6684a56e-93cc-4960-a28c-748b578a7ed8",
   "metadata": {},
   "outputs": [],
   "source": [
    "import pickle\n",
    "import numpy as np\n",
    "import matplotlib.pyplot as plt\n",
    "import torch\n",
    "import convmorph as cm\n",
    "from torch.utils.data import Dataset, DataLoader"
   ]
  },
  {
   "cell_type": "code",
   "execution_count": null,
   "id": "b9aeab2e-fa33-4830-b503-bbfacb6493f7",
   "metadata": {},
   "outputs": [],
   "source": []
  },
  {
   "cell_type": "markdown",
   "id": "8519a351-ff6e-46e0-9d29-6d022261a381",
   "metadata": {},
   "source": [
    "## Summary\n",
    "\n",
    "* I try to build models to learn the mappings from the constituent vectors to the word vectors.\n",
    "* There are two kinds of mappings: \n",
    "  * 2-Char: from single-character word to two-character word\n",
    "  * 4-char: from two-character word to 4-character NN compounds\n",
    "* all word vectors are coming from the Tencent embeddings\n",
    "* Data statistics:\n",
    "  * 2-char: 120838 => Train 114,796 + Test 6,042\n",
    "  * 4-char:  75957 => Train  69,915 + Test 6,042\n",
    "  * Note: Data size has large impact on accuracy. Therefore I control the test data size in 2-Char and 4-Char, so that their test accuracy is comparable. I also sampled 6,042 items from training set to compute a comparable training accuracy.\n",
    "* Model:\n",
    "  * Linear projection: Use pseudo-inverse to compute a projection matrix. It projects the 400 dim constituent vectors to 200 word vectors.\n",
    "  * Deep learning model: a 6-layer convolution-based model. It is not a large model compared to NLP models (e.g. BERT, ~100-200M params), but it already has 11.2M parameters.\n",
    "  \n",
    "* Accuracy Table\n",
    "\n",
    "|         |  DL-Train | DL-Test | Lin-Train | Lin-Test  |\n",
    "|---------|--------:|------:|-------:|-------:|\n",
    "| 2-Char  |  .78   | .46  |  .40  |  .39  |\n",
    "| 4-Char  |  .94   | .74  |  .72  |  .71  |\n",
    "\n",
    "* Observations:\n",
    "  * DL does perform marignally better than linear projection in testing data.\n",
    "  * The training accuracy is much better in DL than in linear projection. But it is still not clear if it is only overfitting or there is something it learned from the training set that is not transferable to testing set."
   ]
  },
  {
   "cell_type": "markdown",
   "id": "1108061d-9e84-44a9-88cc-dbbcb3b4c8f1",
   "metadata": {},
   "source": [
    "## Load Data"
   ]
  },
  {
   "cell_type": "code",
   "execution_count": 4,
   "id": "9712f608-c2e1-45b0-bda3-1153ac7aab3c",
   "metadata": {},
   "outputs": [],
   "source": [
    "with open(\"../data/convmorph_dataset.pkl\", \"rb\") as fin:\n",
    "    (cm2_vocabs, cm2_embs) = pickle.load(fin)"
   ]
  },
  {
   "cell_type": "code",
   "execution_count": 5,
   "id": "6813a12e-2d89-4919-8629-5a3239cc7642",
   "metadata": {},
   "outputs": [
    {
     "data": {
      "application/vnd.jupyter.widget-view+json": {
       "model_id": "a427744b587c47ec8741ed7268ce9c2d",
       "version_major": 2,
       "version_minor": 0
      },
      "text/plain": [
       "  0%|          | 0/119797 [00:00<?, ?it/s]"
      ]
     },
     "metadata": {},
     "output_type": "display_data"
    }
   ],
   "source": [
    "compound_embedding_path = \"../data/tencent_compounds_embeddings.txt.gz\"\n",
    "cm4_vocabs, cm4_embs = cm.load_tencent_compound(compound_embedding_path)"
   ]
  },
  {
   "cell_type": "code",
   "execution_count": 6,
   "id": "7cdf391f-1caf-4656-a78b-c28d58363c86",
   "metadata": {},
   "outputs": [
    {
     "data": {
      "text/plain": [
       "129538"
      ]
     },
     "execution_count": 6,
     "metadata": {},
     "output_type": "execute_result"
    }
   ],
   "source": [
    "len(cm2_vocabs)"
   ]
  },
  {
   "cell_type": "code",
   "execution_count": 7,
   "id": "998688ab-131e-42ec-8b40-afa8660efe25",
   "metadata": {},
   "outputs": [
    {
     "data": {
      "application/vnd.jupyter.widget-view+json": {
       "model_id": "61105e1262ad4a3888197b619a2fe8e8",
       "version_major": 2,
       "version_minor": 0
      },
      "text/plain": [
       "building dataset:   0%|          | 0/129538 [00:00<?, ?it/s]"
      ]
     },
     "metadata": {},
     "output_type": "display_data"
    },
    {
     "data": {
      "application/vnd.jupyter.widget-view+json": {
       "model_id": "c75a645ef10242459837316e6bbe9075",
       "version_major": 2,
       "version_minor": 0
      },
      "text/plain": [
       "building dataset:   0%|          | 0/119797 [00:00<?, ?it/s]"
      ]
     },
     "metadata": {},
     "output_type": "display_data"
    },
    {
     "name": "stdout",
     "output_type": "stream",
     "text": [
      "cm2_dataset: 120838\n",
      "cm4_dataset:  75957\n"
     ]
    }
   ],
   "source": [
    "cm2_ds = cm.ConvmorphDataset(cm2_vocabs, cm2_embs)\n",
    "cm4_ds = cm.ConvmorphNNDataset(cm4_vocabs, cm4_embs)\n",
    "print(f\"cm2_dataset: {len(cm2_ds):6d}\")\n",
    "print(f\"cm4_dataset: {len(cm4_ds):6d}\")"
   ]
  },
  {
   "cell_type": "markdown",
   "id": "df14f21d-c3bd-4e9e-88cf-cf481b682a0b",
   "metadata": {},
   "source": [
    "### Load train-testing splits"
   ]
  },
  {
   "cell_type": "code",
   "execution_count": 8,
   "id": "27f48135-fb46-4b54-a15d-a5dd176ce2fa",
   "metadata": {},
   "outputs": [
    {
     "name": "stdout",
     "output_type": "stream",
     "text": [
      "cm2:  114796 6042 6042\n",
      "cm4:  69915 6042 6042\n"
     ]
    }
   ],
   "source": [
    "import pickle\n",
    "cm2_split_path = \"../data/split_indices_500k.pkl\"\n",
    "cm4_split_path = \"../data/split_indices_char4.pkl\"\n",
    "(cm2_train_ds, cm2_test_ds, \n",
    " cm2_train_eval_ds,\n",
    " cm2_train_idxs, cm2_test_idxs) = cm.split_train_test(cm2_split_path, cm2_ds)\n",
    "(cm4_train_ds, cm4_test_ds, \n",
    " cm4_train_eval_ds,\n",
    " cm4_train_idxs, cm4_test_idxs) = cm.split_train_test(cm4_split_path, cm4_ds)\n",
    "\n",
    "print(\"cm2: \", len(cm2_train_ds), len(cm2_test_ds), len(cm2_train_eval_ds))\n",
    "print(\"cm4: \", len(cm4_train_ds), len(cm4_test_ds), len(cm4_train_eval_ds))"
   ]
  },
  {
   "cell_type": "markdown",
   "id": "804e25b5-8893-44ec-9b1a-d01ee4ad331c",
   "metadata": {},
   "source": [
    "## Load Model"
   ]
  },
  {
   "cell_type": "markdown",
   "id": "85d2b6a9-7f4a-457e-bb8a-fed7bd03f428",
   "metadata": {},
   "source": [
    "### DL model"
   ]
  },
  {
   "cell_type": "code",
   "execution_count": 9,
   "id": "3ccf7555-4a99-4018-a90f-8483cfb13e88",
   "metadata": {},
   "outputs": [],
   "source": [
    "from convmorph import ConvmorphArcModel\n",
    "# DL model for 2-char-word\n",
    "model_cm2 = ConvmorphArcModel().to(\"cuda\")\n",
    "states = torch.load(\"../data/0403-1959-arc/model.pth\")\n",
    "model_cm2.load_state_dict(states())  # I made a mistake when saving state_dict. The saved state is a bound function.\n",
    "_ = model_cm2.eval()\n",
    "\n",
    "# DL model for 4-char-word\n",
    "model_cm4 = ConvmorphArcModel().to(\"cuda\")\n",
    "states = torch.load(\"../data/0413-1204-arc/model.pth\")\n",
    "model_cm4.load_state_dict(states)  # I made a mistake when saving state_dict. The saved state is a bound function.\n",
    "_ = model_cm4.eval()"
   ]
  },
  {
   "cell_type": "code",
   "execution_count": 10,
   "id": "7b56f90c-9dd3-48ab-a3d8-295dcd9af8cd",
   "metadata": {},
   "outputs": [
    {
     "name": "stdout",
     "output_type": "stream",
     "text": [
      "11.06M parameters\n"
     ]
    }
   ],
   "source": [
    "print(\"{:.2f}M parameters\".format(sum([x.numel() for x in model_cm2.parameters()])/1e6))"
   ]
  },
  {
   "cell_type": "markdown",
   "id": "54307dd9-4d18-4737-804d-0eb7f379043e",
   "metadata": {},
   "source": [
    "### Linear projection model"
   ]
  },
  {
   "cell_type": "markdown",
   "id": "0750502a-6035-4940-bb49-4e26877ee958",
   "metadata": {},
   "source": [
    "$$\n",
    "AX=B \\\\\n",
    "X = (A^\\top A)^{-1}A^\\top B\n",
    "$$"
   ]
  },
  {
   "cell_type": "code",
   "execution_count": 11,
   "id": "0811f611-ddd2-47ec-8a1a-c3dd441b4f1e",
   "metadata": {},
   "outputs": [],
   "source": [
    "linprojX_cm2 = cm.make_linear_projection(cm2_ds, cm2_train_idxs)\n",
    "linproj_cm2 = cm.LinearProjection(linprojX_cm2, \"cuda\")\n",
    "linprojX_cm4 = cm.make_linear_projection(cm4_ds, cm4_train_idxs)\n",
    "linproj_cm4 = cm.LinearProjection(linprojX_cm4, \"cuda\")"
   ]
  },
  {
   "cell_type": "markdown",
   "id": "3803e83c-00fc-49df-bb9d-6b1760c13a7b",
   "metadata": {},
   "source": [
    "## Metrics"
   ]
  },
  {
   "cell_type": "markdown",
   "id": "fd1597bb-26ea-4532-a385-28965c93545c",
   "metadata": {},
   "source": [
    "### Two-character words"
   ]
  },
  {
   "cell_type": "code",
   "execution_count": 14,
   "id": "bfcde746-7a38-4d52-a657-fb619041fbb8",
   "metadata": {},
   "outputs": [],
   "source": [
    "cm2_eval_embs = torch.tensor(np.vstack([x[\"target\"] for x in cm2_test_ds]), dtype=torch.float32).to(\"cuda\")\n",
    "cm2_train_eval_embs = torch.tensor(np.vstack([x[\"target\"] for x in cm2_train_eval_ds]), dtype=torch.float32).to(\"cuda\")"
   ]
  },
  {
   "cell_type": "code",
   "execution_count": 15,
   "id": "5174eac5-1c6d-4325-9225-d6574c3a456f",
   "metadata": {},
   "outputs": [
    {
     "data": {
      "application/vnd.jupyter.widget-view+json": {
       "model_id": "9a7a577fff4f4e868b3104cdaa01c2f7",
       "version_major": 2,
       "version_minor": 0
      },
      "text/plain": [
       "  0%|          | 0/48 [00:00<?, ?it/s]"
      ]
     },
     "metadata": {},
     "output_type": "display_data"
    },
    {
     "data": {
      "application/vnd.jupyter.widget-view+json": {
       "model_id": "66343d6ae29e4caf8b2cb47bab7dedac",
       "version_major": 2,
       "version_minor": 0
      },
      "text/plain": [
       "  0%|          | 0/48 [00:00<?, ?it/s]"
      ]
     },
     "metadata": {},
     "output_type": "display_data"
    },
    {
     "name": "stdout",
     "output_type": "stream",
     "text": [
      "CM2 DL: \n",
      "Train/Test Acc: 0.7761/0.4556\n"
     ]
    }
   ],
   "source": [
    "cm2_acc_test_dl = cm.compute_accuracy(model_cm2, DataLoader(cm2_test_ds, batch_size=128, shuffle=False), \n",
    "                                      cm2_eval_embs, topk=1)\n",
    "cm2_acc_train_dl = cm.compute_accuracy(model_cm2, DataLoader(cm2_train_eval_ds, batch_size=128, shuffle=False), \n",
    "                                       cm2_train_eval_embs, topk=1)\n",
    "print(\"CM2 DL: \")\n",
    "print(\"Train/Test Acc: {:.4f}/{:.4f}\".format(cm2_acc_train_dl, cm2_acc_test_dl))"
   ]
  },
  {
   "cell_type": "code",
   "execution_count": 16,
   "id": "2484cd69-a264-4c1b-b6f2-9a85773a406a",
   "metadata": {},
   "outputs": [
    {
     "data": {
      "application/vnd.jupyter.widget-view+json": {
       "model_id": "2114d17585964c1d9693d2bdbba5d8be",
       "version_major": 2,
       "version_minor": 0
      },
      "text/plain": [
       "  0%|          | 0/48 [00:00<?, ?it/s]"
      ]
     },
     "metadata": {},
     "output_type": "display_data"
    },
    {
     "data": {
      "application/vnd.jupyter.widget-view+json": {
       "model_id": "78d1ccec19b44c0bb4485301190ad518",
       "version_major": 2,
       "version_minor": 0
      },
      "text/plain": [
       "  0%|          | 0/48 [00:00<?, ?it/s]"
      ]
     },
     "metadata": {},
     "output_type": "display_data"
    },
    {
     "name": "stdout",
     "output_type": "stream",
     "text": [
      "CM2 Linear: \n",
      "Train/Test Acc: 0.4005/0.3883\n"
     ]
    }
   ],
   "source": [
    "cm2_acc_test_lin = cm.compute_accuracy(linproj_cm2, DataLoader(cm2_test_ds, batch_size=128, shuffle=False), \n",
    "                                      cm2_eval_embs, topk=1)\n",
    "cm2_acc_train_lin = cm.compute_accuracy(linproj_cm2, DataLoader(cm2_train_eval_ds, batch_size=128, shuffle=False), \n",
    "                                       cm2_train_eval_embs, topk=1)\n",
    "print(\"CM2 Linear: \")\n",
    "print(\"Train/Test Acc: {:.4f}/{:.4f}\".format(cm2_acc_train_lin, cm2_acc_test_lin))"
   ]
  },
  {
   "cell_type": "markdown",
   "id": "240f476a-c078-4a2a-9004-3a01da478236",
   "metadata": {},
   "source": [
    "### Four-character Words"
   ]
  },
  {
   "cell_type": "code",
   "execution_count": 17,
   "id": "3344a3c0-0cd1-42ed-8f09-bc674ab6ba6b",
   "metadata": {},
   "outputs": [],
   "source": [
    "cm4_eval_embs = torch.tensor(np.vstack([x[\"target\"] for x in cm4_test_ds]), dtype=torch.float32).to(\"cuda\")\n",
    "cm4_train_eval_embs = torch.tensor(np.vstack([x[\"target\"] for x in cm4_train_eval_ds]), dtype=torch.float32).to(\"cuda\")"
   ]
  },
  {
   "cell_type": "code",
   "execution_count": 18,
   "id": "717f3044-98eb-42af-af1d-167198dc6471",
   "metadata": {},
   "outputs": [
    {
     "data": {
      "application/vnd.jupyter.widget-view+json": {
       "model_id": "5653b84164d44e319a63346fc93568f6",
       "version_major": 2,
       "version_minor": 0
      },
      "text/plain": [
       "  0%|          | 0/48 [00:00<?, ?it/s]"
      ]
     },
     "metadata": {},
     "output_type": "display_data"
    },
    {
     "data": {
      "application/vnd.jupyter.widget-view+json": {
       "model_id": "26471f6d560b40ad9d08b4485d0c5407",
       "version_major": 2,
       "version_minor": 0
      },
      "text/plain": [
       "  0%|          | 0/48 [00:00<?, ?it/s]"
      ]
     },
     "metadata": {},
     "output_type": "display_data"
    },
    {
     "name": "stdout",
     "output_type": "stream",
     "text": [
      "CM4 DL: \n",
      "Train/Test Acc: 0.9396/0.7380\n"
     ]
    }
   ],
   "source": [
    "cm4_acc_test_dl = cm.compute_accuracy(model_cm4, DataLoader(cm4_test_ds, batch_size=128, shuffle=False), \n",
    "                                      cm4_eval_embs, topk=1)\n",
    "cm4_acc_train_dl = cm.compute_accuracy(model_cm4, DataLoader(cm4_train_eval_ds, batch_size=128, shuffle=False), \n",
    "                                       cm4_train_eval_embs, topk=1)\n",
    "print(\"CM4 DL: \")\n",
    "print(\"Train/Test Acc: {:.4f}/{:.4f}\".format(cm4_acc_train_dl, cm4_acc_test_dl))"
   ]
  },
  {
   "cell_type": "code",
   "execution_count": 19,
   "id": "f83b2520-12bd-4c42-b45c-f69bb319e760",
   "metadata": {},
   "outputs": [
    {
     "data": {
      "application/vnd.jupyter.widget-view+json": {
       "model_id": "be7c3d86d1e8404e8eba82647dec626b",
       "version_major": 2,
       "version_minor": 0
      },
      "text/plain": [
       "  0%|          | 0/48 [00:00<?, ?it/s]"
      ]
     },
     "metadata": {},
     "output_type": "display_data"
    },
    {
     "data": {
      "application/vnd.jupyter.widget-view+json": {
       "model_id": "a8505c70009f4b9794dc7b709be37740",
       "version_major": 2,
       "version_minor": 0
      },
      "text/plain": [
       "  0%|          | 0/48 [00:00<?, ?it/s]"
      ]
     },
     "metadata": {},
     "output_type": "display_data"
    },
    {
     "name": "stdout",
     "output_type": "stream",
     "text": [
      "CM4 Linear: \n",
      "Train/Test Acc: 0.7210/0.7061\n"
     ]
    }
   ],
   "source": [
    "cm4_acc_test_lin = cm.compute_accuracy(linproj_cm4, DataLoader(cm4_test_ds, batch_size=128, shuffle=False), \n",
    "                                      cm4_eval_embs, topk=1)\n",
    "cm4_acc_train_lin = cm.compute_accuracy(linproj_cm4, DataLoader(cm4_train_eval_ds, batch_size=128, shuffle=False), \n",
    "                                       cm4_train_eval_embs, topk=1)\n",
    "print(\"CM4 Linear: \")\n",
    "print(\"Train/Test Acc: {:.4f}/{:.4f}\".format(cm4_acc_train_lin, cm4_acc_test_lin))"
   ]
  },
  {
   "cell_type": "code",
   "execution_count": 27,
   "id": "71f1c365-285c-49ca-a297-1949e9c297b1",
   "metadata": {},
   "outputs": [
    {
     "data": {
      "text/plain": [
       "<matplotlib.image.AxesImage at 0x158f3d69db0>"
      ]
     },
     "execution_count": 27,
     "metadata": {},
     "output_type": "execute_result"
    },
    {
     "data": {
      "image/png": "[encoded data removed]",
      "text/plain": [
       "<Figure size 432x288 with 1 Axes>"
      ]
     },
     "metadata": {
      "needs_background": "light"
     },
     "output_type": "display_data"
    }
   ],
   "source": [
    "plt.imshow(linprojX_cm2)"
   ]
  },
  {
   "cell_type": "code",
   "execution_count": 26,
   "id": "d995d724-6e01-4db4-b8cb-c91535851344",
   "metadata": {},
   "outputs": [
    {
     "data": {
      "text/plain": [
       "<matplotlib.image.AxesImage at 0x158f3c89240>"
      ]
     },
     "execution_count": 26,
     "metadata": {},
     "output_type": "execute_result"
    },
    {
     "data": {
      "image/png": "[encoded data removed]",
      "text/plain": [
       "<Figure size 432x288 with 1 Axes>"
      ]
     },
     "metadata": {
      "needs_background": "light"
     },
     "output_type": "display_data"
    }
   ],
   "source": [
    "plt.imshow(linprojX_cm4)"
   ]
  },
  {
   "cell_type": "code",
   "execution_count": null,
   "id": "ffd1a2de-5a67-49a0-825f-3cd59f363067",
   "metadata": {},
   "outputs": [],
   "source": []
  }
 ],
 "metadata": {
  "kernelspec": {
   "display_name": "Python 3 (ipykernel)",
   "language": "python",
   "name": "python3"
  },
  "language_info": {
   "codemirror_mode": {
    "name": "ipython",
    "version": 3
   },
   "file_extension": ".py",
   "mimetype": "text/x-python",
   "name": "python",
   "nbconvert_exporter": "python",
   "pygments_lexer": "ipython3",
   "version": "3.10.2"
  }
 },
 "nbformat": 4,
 "nbformat_minor": 5
}
